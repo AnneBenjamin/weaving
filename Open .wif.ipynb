{
 "cells": [
  {
   "cell_type": "markdown",
   "metadata": {},
   "source": [
    "Import \".wif\" weaving file"
   ]
  },
  {
   "cell_type": "code",
   "execution_count": 16,
   "metadata": {},
   "outputs": [
    {
     "name": "stdout",
     "output_type": "stream",
     "text": [
      "Name of .wif file: 44191.wif\n"
     ]
    }
   ],
   "source": [
    "filename = input('Name of .wif file: ') #44191, 44677, 34734, 53539, 13740, 13733"
   ]
  },
  {
   "cell_type": "code",
   "execution_count": 17,
   "metadata": {},
   "outputs": [],
   "source": [
    "import numpy as np\n",
    "import matplotlib.pyplot as plt\n",
    "import matplotlib.colors as col\n",
    "with open(filename) as f:\n",
    "    file = [line.rstrip('\\n') for line in f]"
   ]
  },
  {
   "cell_type": "markdown",
   "metadata": {},
   "source": [
    "Find contents of file (eg. color guide, tie-up, etc.)"
   ]
  },
  {
   "cell_type": "code",
   "execution_count": 18,
   "metadata": {},
   "outputs": [
    {
     "name": "stdout",
     "output_type": "stream",
     "text": [
      "['WIF', 'CONTENTS', 'WEAVING', 'COLOR PALETTE', 'COLOR TABLE', 'WARP', 'WEFT', 'TIEUP', 'THREADING', 'TREADLING', 'WARP COLORS', 'WEFT COLORS']\n"
     ]
    }
   ],
   "source": [
    "category = []\n",
    "cat_index = [];\n",
    "categories = []\n",
    "cat_indicies = []\n",
    "for line in file:\n",
    "    if line.startswith(\"[\"):\n",
    "        category = line[1:-1]\n",
    "        categories.append(category)\n",
    "        cat_index = file.index(line)\n",
    "        cat_indicies.append(cat_index)\n",
    "#categories.append('end')\n",
    "cat_indicies.append(len(file)+1)\n",
    "print(categories)"
   ]
  },
  {
   "cell_type": "markdown",
   "metadata": {},
   "source": [
    "Find tie-up, threading, treadling"
   ]
  },
  {
   "cell_type": "code",
   "execution_count": 19,
   "metadata": {},
   "outputs": [],
   "source": [
    "contents = []\n",
    "for i in range(len(cat_indicies)-1):\n",
    "    dictel = (categories[i],file[cat_indicies[i]+1:cat_indicies[i+1]])\n",
    "    contents.append(dictel)\n",
    "contents = dict(contents)\n",
    "tieup_guide = contents['TIEUP']\n",
    "threading_guide = contents['THREADING']\n",
    "treadling_guide = contents['TREADLING']"
   ]
  },
  {
   "cell_type": "markdown",
   "metadata": {},
   "source": [
    "Convert tie-up, threading, and treadling lists into draft matrices"
   ]
  },
  {
   "cell_type": "code",
   "execution_count": 20,
   "metadata": {},
   "outputs": [
    {
     "data": {
      "image/png": "[encoded data removed]",
      "text/plain": [
       "<Figure size 432x288 with 1 Axes>"
      ]
     },
     "metadata": {
      "needs_background": "light"
     },
     "output_type": "display_data"
    }
   ],
   "source": [
    "tieup_height=0\n",
    "tieup_width = len(tieup_guide)\n",
    "tieup = np.zeros((tieup_width,5*tieup_width))\n",
    "for row in tieup_guide:\n",
    "    row = row.split('=')\n",
    "    trow = int(row[0])-1\n",
    "    column = row[1].split(',')\n",
    "    for index in column:\n",
    "        tcol = int(index)\n",
    "        tieup[trow][tcol-1] = 1\n",
    "        tieup_height=max(tcol,tieup_height)\n",
    "tieup = tieup[0:tieup_width,0:tieup_height]\n",
    "#print(tieup)\n",
    "tieup_display = np.transpose(tieup)\n",
    "draft_tieup = plt.imshow(tieup_display,cmap='Blues');\n",
    "plt.axis('image');"
   ]
  },
  {
   "cell_type": "code",
   "execution_count": 21,
   "metadata": {},
   "outputs": [
    {
     "data": {
      "image/png": "[encoded data removed]",
      "text/plain": [
       "<Figure size 432x288 with 1 Axes>"
      ]
     },
     "metadata": {
      "needs_background": "light"
     },
     "output_type": "display_data"
    }
   ],
   "source": [
    "threading_width = len(threading_guide)\n",
    "threading = np.zeros((threading_width,tieup_height))\n",
    "for row in threading_guide:\n",
    "    row = row.split('=')\n",
    "    trow = int(row[0])-1\n",
    "    tcol = int(row[1])-1\n",
    "    threading[trow][tcol] = 1\n",
    "threading_display=np.transpose(threading)\n",
    "#print(np.shape(threading_display))\n",
    "#print(threading_display)\n",
    "draft_threading = plt.imshow(threading_display,cmap='Blues');\n",
    "plt.axis('image');"
   ]
  },
  {
   "cell_type": "code",
   "execution_count": 22,
   "metadata": {},
   "outputs": [
    {
     "data": {
      "image/png": "[encoded data removed]",
      "text/plain": [
       "<Figure size 432x288 with 1 Axes>"
      ]
     },
     "metadata": {
      "needs_background": "light"
     },
     "output_type": "display_data"
    }
   ],
   "source": [
    "treadling_height = len(treadling_guide)\n",
    "treadling = np.zeros((treadling_height,tieup_width))\n",
    "for row in treadling_guide:\n",
    "    row = row.split('=')\n",
    "    trow = int(row[0])-1\n",
    "    tcol = int(row[1])-1\n",
    "    treadling[trow][tcol] = 1\n",
    "#print(treadling)\n",
    "draft_treadling = plt.imshow(treadling,cmap='Blues');\n",
    "plt.axis('image');"
   ]
  },
  {
   "cell_type": "markdown",
   "metadata": {},
   "source": [
    "Calculate draw-down, with black indicating warp on top of weft"
   ]
  },
  {
   "cell_type": "code",
   "execution_count": 23,
   "metadata": {},
   "outputs": [
    {
     "data": {
      "image/png": "[encoded data removed]",
      "text/plain": [
       "<Figure size 432x288 with 1 Axes>"
      ]
     },
     "metadata": {
      "needs_background": "light"
     },
     "output_type": "display_data"
    }
   ],
   "source": [
    "draw_down = np.matmul(treadling,(np.matmul(tieup,np.transpose(threading))))\n",
    "draft_draw_down = plt.imshow(draw_down,cmap='Greys');\n",
    "plt.axis('image');"
   ]
  },
  {
   "cell_type": "markdown",
   "metadata": {},
   "source": [
    "Convert color guides lists to matrices"
   ]
  },
  {
   "cell_type": "code",
   "execution_count": 24,
   "metadata": {},
   "outputs": [],
   "source": [
    "warp_colors_guide = contents['WARP COLORS']\n",
    "warp_color = []\n",
    "for row in warp_colors_guide:\n",
    "    row = row.split('=')\n",
    "    warp_color.append(int(row[1]))\n",
    "#print(warp_color)\n",
    "\n",
    "weft_colors_guide = contents['WEFT COLORS']\n",
    "weft_color = []\n",
    "for row in weft_colors_guide:\n",
    "    row = row.split('=')\n",
    "    weft_color.append(int(row[1]))\n",
    "#print(weft_color)"
   ]
  },
  {
   "cell_type": "code",
   "execution_count": 25,
   "metadata": {},
   "outputs": [],
   "source": [
    "color_map_array = []\n",
    "if 'Form=RGB' in contents['COLOR PALETTE']:\n",
    "    for element in contents['COLOR PALETTE']:\n",
    "        if element.startswith('Range'):\n",
    "            element = element.split('=')\n",
    "            element = element[1].split(',')\n",
    "            color_range_max = int(element[-1])\n",
    "    for element in contents['COLOR TABLE']:\n",
    "        element =  element.split('=')[1]\n",
    "        element =  element.split(',')\n",
    "        floats = [float(third)/color_range_max for third in element]\n",
    "        color_map_array.append(floats)\n",
    "        color_map = col.ListedColormap(color_map_array,'Palette')\n",
    "else:\n",
    "    color_map = 'Blues'"
   ]
  },
  {
   "cell_type": "markdown",
   "metadata": {},
   "source": [
    "Draw-down colored with thread colors"
   ]
  },
  {
   "cell_type": "code",
   "execution_count": 26,
   "metadata": {},
   "outputs": [],
   "source": [
    "warp_up_color = np.multiply(warp_color,draw_down)\n",
    "down_draw_down = np.multiply(np.subtract(draw_down,1),-1)\n",
    "weft_down_color = np.multiply(weft_color,np.transpose(down_draw_down))\n",
    "draw_down_color = np.add(warp_up_color,np.transpose(weft_down_color))"
   ]
  },
  {
   "cell_type": "code",
   "execution_count": 27,
   "metadata": {},
   "outputs": [
    {
     "data": {
      "image/png": "[encoded data removed]",
      "text/plain": [
       "<Figure size 720x720 with 1 Axes>"
      ]
     },
     "metadata": {
      "needs_background": "light"
     },
     "output_type": "display_data"
    }
   ],
   "source": [
    "plt.figure(figsize=(10,10))\n",
    "draw_down_image = plt.imshow(draw_down_color,cmap=color_map)\n",
    "plt.axis('image')\n",
    "plt.xticks(np.arange(0+.5,np.shape(draw_down)[0]+.5,1),[])\n",
    "plt.yticks(np.arange(0+.5,np.shape(draw_down)[1]+.5,1),[])\n",
    "plt.grid(color='gray');"
   ]
  },
  {
   "cell_type": "code",
   "execution_count": 28,
   "metadata": {},
   "outputs": [
    {
     "data": {
      "text/plain": [
       "<Figure size 432x288 with 0 Axes>"
      ]
     },
     "metadata": {},
     "output_type": "display_data"
    },
    {
     "data": {
      "image/png": "[encoded data removed]",
      "text/plain": [
       "<Figure size 720x720 with 4 Axes>"
      ]
     },
     "metadata": {
      "needs_background": "light"
     },
     "output_type": "display_data"
    }
   ],
   "source": [
    "import matplotlib.gridspec as gridspec\n",
    "fig = plt.figure()\n",
    "plt.figure(figsize=(10,10));\n",
    "\n",
    "#draft_width = tieup_width + threading_width\n",
    "#draft_height = tieup_height + treadling_height\n",
    "\n",
    "widths = [tieup_width, threading_width]\n",
    "heights = [tieup_height, treadling_height]\n",
    "\n",
    "gs = gridspec.GridSpec(2, 2, width_ratios=widths, height_ratios=heights)\n",
    "\n",
    "ax1 = plt.subplot(gs[0])\n",
    "ax1.imshow(tieup_display,cmap='Greys')\n",
    "ax1.axis('off')\n",
    "ax2 = plt.subplot(gs[1])\n",
    "ax2.imshow(threading_display,cmap='Greys')\n",
    "ax2.axis('off')\n",
    "ax3 = plt.subplot(gs[2])\n",
    "ax3.imshow(treadling,cmap='Greys')\n",
    "ax3.axis('off')\n",
    "ax4 = plt.subplot(gs[3])\n",
    "ax4.imshow(draw_down,cmap='Greys')\n",
    "ax4.axis('off')\n",
    "\n",
    "fig.subplots_adjust(hspace=0,wspace=0)"
   ]
  },
  {
   "cell_type": "code",
   "execution_count": 29,
   "metadata": {},
   "outputs": [
    {
     "data": {
      "text/plain": [
       "<Figure size 432x288 with 0 Axes>"
      ]
     },
     "metadata": {},
     "output_type": "display_data"
    },
    {
     "data": {
      "image/png": "[encoded data removed]",
      "text/plain": [
       "<Figure size 720x720 with 4 Axes>"
      ]
     },
     "metadata": {
      "needs_background": "light"
     },
     "output_type": "display_data"
    }
   ],
   "source": [
    "import matplotlib.gridspec as gridspec\n",
    "fig = plt.figure()\n",
    "plt.figure(figsize=(10,10));\n",
    "\n",
    "#draft_width = tieup_width + threading_width\n",
    "#draft_height = tieup_height + treadling_height\n",
    "\n",
    "widths = [tieup_width, threading_width]\n",
    "heights = [tieup_height, treadling_height]\n",
    "\n",
    "gs = gridspec.GridSpec(2, 2, width_ratios=widths, height_ratios=heights)\n",
    "\n",
    "ax1 = plt.subplot(gs[0])\n",
    "ax1.imshow(tieup_display,cmap='Blues')\n",
    "ax1.axis('off')\n",
    "ax2 = plt.subplot(gs[1])\n",
    "ax2.imshow(threading_display,cmap='Blues')\n",
    "ax2.axis('off')\n",
    "ax3 = plt.subplot(gs[2])\n",
    "ax3.imshow(treadling,cmap='Blues')\n",
    "ax3.axis('off')\n",
    "ax4 = plt.subplot(gs[3])\n",
    "ax4.imshow(draw_down_color,cmap=color_map)\n",
    "ax4.axis('off')\n",
    "\n",
    "fig.subplots_adjust(hspace=.1,wspace=-.4)"
   ]
  },
  {
   "cell_type": "code",
   "execution_count": null,
   "metadata": {},
   "outputs": [],
   "source": []
  },
  {
   "cell_type": "code",
   "execution_count": null,
   "metadata": {},
   "outputs": [],
   "source": []
  },
  {
   "cell_type": "code",
   "execution_count": null,
   "metadata": {},
   "outputs": [],
   "source": []
  },
  {
   "cell_type": "code",
   "execution_count": null,
   "metadata": {},
   "outputs": [],
   "source": []
  }
 ],
 "metadata": {
  "kernelspec": {
   "display_name": "Python 3",
   "language": "python",
   "name": "python3"
  },
  "language_info": {
   "codemirror_mode": {
    "name": "ipython",
    "version": 3
   },
   "file_extension": ".py",
   "mimetype": "text/x-python",
   "name": "python",
   "nbconvert_exporter": "python",
   "pygments_lexer": "ipython3",
   "version": "3.7.0"
  }
 },
 "nbformat": 4,
 "nbformat_minor": 2
}
