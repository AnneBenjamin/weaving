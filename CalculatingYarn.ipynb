{
  "nbformat": 4,
  "nbformat_minor": 0,
  "metadata": {
    "colab": {
      "name": "CalculatingYarn.ipynb",
      "version": "0.3.2",
      "provenance": [],
      "collapsed_sections": [],
      "include_colab_link": true
    },
    "kernelspec": {
      "name": "python3",
      "display_name": "Python 3"
    }
  },
  "cells": [
    {
      "cell_type": "markdown",
      "metadata": {
        "id": "view-in-github",
        "colab_type": "text"
      },
      "source": [
        "<a href=\"https://colab.research.google.com/github/AnneBenjamin/weaving/blob/master/CalculatingYarn.ipynb\" target=\"_parent\"><img src=\"https://colab.research.google.com/assets/colab-badge.svg\" alt=\"Open In Colab\"/></a>"
      ]
    },
    {
      "metadata": {
        "id": "X3o5RQDsEoVC",
        "colab_type": "text"
      },
      "cell_type": "markdown",
      "source": [
        "\n",
        "#Calculating yarn requirements\n",
        "\n",
        "####Calculating warp and weft yarn consumption based on final dimensions of product\n"
      ]
    },
    {
      "metadata": {
        "id": "vpEQFlrGKBCo",
        "colab_type": "text"
      },
      "cell_type": "markdown",
      "source": [
        "I want this section to ask the user what the final dimensions (length and width) of their finished woven rectangle are. I want the user to type in a number and choose a unit, and for the program to store that dimension in inches."
      ]
    },
    {
      "metadata": {
        "id": "YSquWPq-KRBk",
        "colab_type": "code",
        "colab": {}
      },
      "cell_type": "code",
      "source": [
        "#raw_length_units=input(\"What are the units of your project length? \")\n",
        "#raw_length=input(\"What is your project length? \")\n",
        "#raw_width_units=input(\"What are the units of your project width? \")\n",
        "#raw_width=input(\"What is your project width? \")"
      ],
      "execution_count": 0,
      "outputs": []
    },
    {
      "metadata": {
        "id": "Rl8Tnc7sFaOc",
        "colab_type": "code",
        "colab": {}
      },
      "cell_type": "code",
      "source": [
        "#defining units and import\n",
        "\n",
        "def feet(dimension):\n",
        "  result=dimension*12\n",
        "  return result\n",
        "\n",
        "def inches(dimension):\n",
        "  result=dimension\n",
        "  return result\n",
        "\n",
        "def yard(dimension):\n",
        "  result=dimension*36\n",
        "  return result\n",
        "\n",
        "def centimeters(dimension):\n",
        "  result=dimension/2.54\n",
        "  return result\n",
        "\n",
        "def meters(dimension):\n",
        "  result=dimension*39.37\n",
        "  return result\n",
        "\n",
        "def unyard(dimension):\n",
        "  result=dimension/36\n",
        "  return result\n",
        "\n",
        "import numpy as np"
      ],
      "execution_count": 0,
      "outputs": []
    },
    {
      "metadata": {
        "id": "frf-BbvzFJVF",
        "colab_type": "code",
        "colab": {}
      },
      "cell_type": "code",
      "source": [
        "#Inputing project dimensions and properties\n",
        "#In matrices, properties of the warp, then properties of the weft\n",
        "\n",
        "project_length=feet(4)\n",
        "project_width=inches(12)\n",
        "project_dimensions=[project_length,project_width]\n",
        "EPI=25\n",
        "BPI=EPI\n",
        "PI=[EPI,BPI]\n",
        "stretch_warp=1.1\n",
        "stretch_weft=stretch_warp\n",
        "stretch=[stretch_warp,stretch_weft]\n",
        "loom_waste=25\n",
        "waste=[loom_waste,0]"
      ],
      "execution_count": 0,
      "outputs": []
    },
    {
      "metadata": {
        "id": "tcpk8i_GMMi9",
        "colab_type": "code",
        "outputId": "4b64417b-05d1-4ac6-d8cb-34a30523da52",
        "colab": {
          "base_uri": "https://localhost:8080/",
          "height": 85
        }
      },
      "cell_type": "code",
      "source": [
        "#calculating warp and weft requirements\n",
        "stretched_dimensions=np.multiply(project_dimensions,stretch)\n",
        "full_dimensions=np.add(stretched_dimensions,waste)\n",
        "number_threads_uncompliant=np.multiply(stretched_dimensions,PI)\n",
        "number_threads=np.ceil(np.flip(number_threads_uncompliant,0))\n",
        "inch_requirements=np.multiply(number_threads,full_dimensions)\n",
        "yard_requirements=np.round(unyard(inch_requirements),2)\n",
        "print(\"Your requirement for the warp is:\",yard_requirements[0],\"yards\")\n",
        "print(\"Your requirement for the weft is:\",yard_requirements[1],\"yards\")\n",
        "print(\"This is a total of\",sum(yard_requirements),\"yards\")\n",
        "print(\"You have\",format(number_threads[0],\".0f\"),\"ends that are\",np.round(full_dimensions[0],2),\"inches long\")"
      ],
      "execution_count": 0,
      "outputs": [
        {
          "output_type": "stream",
          "text": [
            "Your requirement for the warp is: 713.17 yards\n",
            "Your requirement for the weft is: 484.0 yards\n",
            "This is a total of 1197.17 yards\n",
            "You have 330 ends that are 77.8 inches long\n"
          ],
          "name": "stdout"
        }
      ]
    }
  ]
}